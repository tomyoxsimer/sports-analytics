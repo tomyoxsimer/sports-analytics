{
 "cells": [
  {
   "cell_type": "markdown",
   "metadata": {},
   "source": [
    "# NFL Money Line Analyzer #"
   ]
  },
  {
   "cell_type": "markdown",
   "metadata": {},
   "source": [
    "This Notebook uses the season stats of NFL teams to predict the outcome of match ups. The data is then run through a Decision Tree, Random Forest, and Naive Bayes classifiers.\n",
    "\n",
    "The data is sourced from footballdb.com\n",
    "\n",
    "CSV files besides matchup2.csv must have team names in alphabetical order"
   ]
  },
  {
   "cell_type": "code",
   "execution_count": 12,
   "metadata": {},
   "outputs": [],
   "source": [
    "import pandas as pd\n",
    "from sklearn.model_selection import train_test_split\n",
    "from sklearn.tree import DecisionTreeClassifier\n",
    "from sklearn.ensemble import RandomForestClassifier\n",
    "from sklearn.naive_bayes import GaussianNB\n",
    "from sklearn import metrics  \n",
    "from sklearn import tree\n",
    "import numpy as np\n",
    "from matplotlib import pyplot as plt\n",
    "\n",
    "#### Data sourced from Footballdb.com ####\n",
    "pass_df = pd.read_csv('PassRippedData.csv')\n",
    "rush_df = pd.read_csv('RushRippedData.csv') \n",
    "passD_df = pd.read_csv('Pass_DRippedData.csv') \n",
    "rushD_df = pd.read_csv('Rush_DRippedData.csv')\n",
    "matchup_df = pd.read_csv('matchup2.csv')\n",
    "teamlist_df = pd.read_csv('teamlist.csv')\n",
    "\n",
    "teamlist_df = teamlist_df.drop('Unnamed: 5', axis=1)"
   ]
  },
  {
   "cell_type": "markdown",
   "metadata": {},
   "source": [
    "# Data Cleaning Functions #\n",
    "\n",
    "The function MoreIsBetter is best used for simplifying team wins, postive offensive production (yards gained, first downs, touchdowns), and defensive stats (3rd down stops, turnovers).\n",
    "\n",
    "The function LessIsBetter is best used for simplifying negative offensive production (interceptions, fumbles, 3 and outs) and positive defensive production (passing/rushing yards allowed, touchdowns allowed)"
   ]
  },
  {
   "cell_type": "code",
   "execution_count": 13,
   "metadata": {},
   "outputs": [],
   "source": [
    "def MoreIsBetter(stat_df, col_name):\n",
    "    \"\"\"\n",
    "    stat_df_c: pass a column of a data frame\n",
    "    col_name: column name of stat to be simplified\n",
    "    \n",
    "    return: column with stats replaced with 1 if stat is above league average.\n",
    "            0 if stat is below league average. \n",
    "    \"\"\"\n",
    "\n",
    "    stat_pg = stat_df[col_name]\n",
    "\n",
    "    avg_stat = 0\n",
    "    for x in stat_pg:\n",
    "        avg_stat += int(x)\n",
    "\n",
    "    avg_stat = int(avg_stat / 32)\n",
    "\n",
    "    for x in stat_pg:\n",
    "        if x > avg_stat:\n",
    "            stat_pg.replace(x, 1, inplace=True)\n",
    "\n",
    "    for x in stat_pg:\n",
    "        if x > 2:\n",
    "            stat_pg.replace(x, 0, inplace=True)\n",
    "\n",
    "def LessIsBetter(stat_df, col_name):\n",
    "    \"\"\"\n",
    "    stat_df_c: pass a column of a data frame\n",
    "    col_name: column name of stat to be simplified\n",
    "    \n",
    "    return: column with stats replaced with 1 if stat is above league average.\n",
    "            0 if stat is below league average. \n",
    "    \"\"\"\n",
    "\n",
    "    stat_pg = stat_df[col_name]\n",
    "\n",
    "    avg_stat = 0\n",
    "    for x in stat_pg:\n",
    "        avg_stat += int(x)\n",
    "\n",
    "    avg_stat = int(avg_stat / 32)\n",
    "\n",
    "    for x in stat_pg:\n",
    "        if x < avg_stat:\n",
    "            stat_pg.replace(x, 1, inplace=True)\n",
    "\n",
    "    for x in stat_pg:\n",
    "        if x > 2:\n",
    "            stat_pg.replace(x, 0, inplace=True)"
   ]
  },
  {
   "cell_type": "markdown",
   "metadata": {},
   "source": [
    "# Data Frame Combination #\n",
    "\n",
    "Takes the binary data created from MoreIsBetter and LessIsBetter to create a single data frame.\n",
    "\n",
    "Current Version: Not designed to use additional stats outside of the original four \n",
    "\n",
    "Next Version: Will use the panda add column feature to create a dataframe "
   ]
  },
  {
   "cell_type": "code",
   "execution_count": 14,
   "metadata": {},
   "outputs": [],
   "source": [
    "def combination():\n",
    "    \"\"\"\n",
    "    Current version no parameters, no returns\n",
    "    \n",
    "    Next version:\n",
    "    teamlist_df\n",
    "    column to be added \n",
    "    \"\"\"\n",
    "    teamlist_df['Above Average Rush O'] = rush_df['Yds/G']\n",
    "    teamlist_df['Above Average Pass O'] = pass_df['Yds/G']\n",
    "    teamlist_df['Above Average Rush D'] = rushD_df['Yds/G']\n",
    "    teamlist_df['Above Average Pass D'] = passD_df['Yds/G']\n",
    "\n",
    "    teamlist_df = teamlist_df.set_index('Team')\n",
    "\n",
    "    matchup_rushO = []\n",
    "    matchup_passO = []\n",
    "    matchup_rushD = []\n",
    "    matchup_passD = []\n",
    "\n",
    "    for x in matchup_df['Home Team']:\n",
    "        matchup_rushO.append(teamlist_df.loc[x,'Above Average Rush O'])\n",
    "        matchup_passO.append(teamlist_df.loc[x,'Above Average Pass O'])\n",
    "        matchup_rushD.append(teamlist_df.loc[x,'Above Average Rush D'])\n",
    "        matchup_passD.append(teamlist_df.loc[x,'Above Average Pass D'])\n",
    "    \n",
    "    matchup_df['HT Above Average Rush O'] = matchup_rushO\n",
    "    matchup_df['HT Above Average Pass O'] = matchup_passO\n",
    "    matchup_df['HT Above Average Rush D'] = matchup_rushD\n",
    "    matchup_df['HT Above Average Pass D'] = matchup_passD\n",
    "\n",
    "    matchup_rushO = []\n",
    "    matchup_passO = []\n",
    "    matchup_rushD = []\n",
    "    matchup_passD = []\n",
    "\n",
    "    for x in matchup_df['Away Team']:\n",
    "        matchup_rushO.append(teamlist_df.loc[x,'Above Average Rush O'])\n",
    "        matchup_passO.append(teamlist_df.loc[x,'Above Average Pass O'])\n",
    "        matchup_rushD.append(teamlist_df.loc[x,'Above Average Rush D'])\n",
    "        matchup_passD.append(teamlist_df.loc[x,'Above Average Pass D'])\n",
    "    \n",
    "    matchup_df['AT Above Average Rush O'] = matchup_rushO\n",
    "    matchup_df['AT Above Average Pass O'] = matchup_passO\n",
    "    matchup_df['AT Above Average Rush D'] = matchup_rushD\n",
    "    matchup_df['AT Above Average Pass D'] = matchup_passD"
   ]
  },
  {
   "cell_type": "markdown",
   "metadata": {},
   "source": [
    "# Main #"
   ]
  },
  {
   "cell_type": "code",
   "execution_count": 15,
   "metadata": {},
   "outputs": [
    {
     "ename": "UnboundLocalError",
     "evalue": "local variable 'teamlist_df' referenced before assignment",
     "output_type": "error",
     "traceback": [
      "\u001b[1;31m---------------------------------------------------------------------------\u001b[0m",
      "\u001b[1;31mUnboundLocalError\u001b[0m                         Traceback (most recent call last)",
      "\u001b[1;32m<ipython-input-15-4d7a23d68635>\u001b[0m in \u001b[0;36m<module>\u001b[1;34m\u001b[0m\n\u001b[0;32m      4\u001b[0m \u001b[0mLessIsBetter\u001b[0m\u001b[1;33m(\u001b[0m\u001b[0mrushD_df\u001b[0m\u001b[1;33m,\u001b[0m \u001b[1;34m'Yds/G'\u001b[0m\u001b[1;33m)\u001b[0m\u001b[1;33m\u001b[0m\u001b[1;33m\u001b[0m\u001b[0m\n\u001b[0;32m      5\u001b[0m \u001b[1;33m\u001b[0m\u001b[0m\n\u001b[1;32m----> 6\u001b[1;33m \u001b[0mcombination\u001b[0m\u001b[1;33m(\u001b[0m\u001b[1;33m)\u001b[0m\u001b[1;33m\u001b[0m\u001b[1;33m\u001b[0m\u001b[0m\n\u001b[0m\u001b[0;32m      7\u001b[0m \u001b[0mmatchup_df\u001b[0m\u001b[1;33m\u001b[0m\u001b[1;33m\u001b[0m\u001b[0m\n",
      "\u001b[1;32m<ipython-input-14-b43139baa9b1>\u001b[0m in \u001b[0;36mcombination\u001b[1;34m()\u001b[0m\n\u001b[0;32m      7\u001b[0m     \u001b[0mcolumn\u001b[0m \u001b[0mto\u001b[0m \u001b[0mbe\u001b[0m \u001b[0madded\u001b[0m\u001b[1;33m\u001b[0m\u001b[1;33m\u001b[0m\u001b[0m\n\u001b[0;32m      8\u001b[0m     \"\"\"\n\u001b[1;32m----> 9\u001b[1;33m     \u001b[0mteamlist_df\u001b[0m\u001b[1;33m[\u001b[0m\u001b[1;34m'Above Average Rush O'\u001b[0m\u001b[1;33m]\u001b[0m \u001b[1;33m=\u001b[0m \u001b[0mrush_df\u001b[0m\u001b[1;33m[\u001b[0m\u001b[1;34m'Yds/G'\u001b[0m\u001b[1;33m]\u001b[0m\u001b[1;33m\u001b[0m\u001b[1;33m\u001b[0m\u001b[0m\n\u001b[0m\u001b[0;32m     10\u001b[0m     \u001b[0mteamlist_df\u001b[0m\u001b[1;33m[\u001b[0m\u001b[1;34m'Above Average Pass O'\u001b[0m\u001b[1;33m]\u001b[0m \u001b[1;33m=\u001b[0m \u001b[0mpass_df\u001b[0m\u001b[1;33m[\u001b[0m\u001b[1;34m'Yds/G'\u001b[0m\u001b[1;33m]\u001b[0m\u001b[1;33m\u001b[0m\u001b[1;33m\u001b[0m\u001b[0m\n\u001b[0;32m     11\u001b[0m     \u001b[0mteamlist_df\u001b[0m\u001b[1;33m[\u001b[0m\u001b[1;34m'Above Average Rush D'\u001b[0m\u001b[1;33m]\u001b[0m \u001b[1;33m=\u001b[0m \u001b[0mrushD_df\u001b[0m\u001b[1;33m[\u001b[0m\u001b[1;34m'Yds/G'\u001b[0m\u001b[1;33m]\u001b[0m\u001b[1;33m\u001b[0m\u001b[1;33m\u001b[0m\u001b[0m\n",
      "\u001b[1;31mUnboundLocalError\u001b[0m: local variable 'teamlist_df' referenced before assignment"
     ]
    }
   ],
   "source": [
    "MoreIsBetter(pass_df, 'Yds/G')\n",
    "MoreIsBetter(rush_df, 'Yds/G')\n",
    "LessIsBetter(passD_df, 'Yds/G')\n",
    "LessIsBetter(rushD_df, 'Yds/G')\n",
    "\n",
    "combination()\n",
    "matchup_df"
   ]
  },
  {
   "cell_type": "code",
   "execution_count": null,
   "metadata": {},
   "outputs": [],
   "source": []
  }
 ],
 "metadata": {
  "kernelspec": {
   "display_name": "Python 3",
   "language": "python",
   "name": "python3"
  },
  "language_info": {
   "codemirror_mode": {
    "name": "ipython",
    "version": 3
   },
   "file_extension": ".py",
   "mimetype": "text/x-python",
   "name": "python",
   "nbconvert_exporter": "python",
   "pygments_lexer": "ipython3",
   "version": "3.8.3"
  }
 },
 "nbformat": 4,
 "nbformat_minor": 4
}
